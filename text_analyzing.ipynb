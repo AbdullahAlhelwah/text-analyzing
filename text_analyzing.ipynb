{
  "metadata": {
    "kernelspec": {
      "name": "python",
      "display_name": "Python (Pyodide)",
      "language": "python"
    },
    "language_info": {
      "codemirror_mode": {
        "name": "python",
        "version": 3
      },
      "file_extension": ".py",
      "mimetype": "text/x-python",
      "name": "python",
      "nbconvert_exporter": "python",
      "pygments_lexer": "ipython3",
      "version": "3.8"
    },
    "colab": {
      "provenance": [],
      "include_colab_link": true
    }
  },
  "nbformat_minor": 0,
  "nbformat": 4,
  "cells": [
    {
      "cell_type": "markdown",
      "metadata": {
        "id": "view-in-github",
        "colab_type": "text"
      },
      "source": [
        "<a href=\"https://colab.research.google.com/github/AbdullahAlhelwah/text-analyzing/blob/main/text_analyzing.ipynb\" target=\"_parent\"><img src=\"https://colab.research.google.com/assets/colab-badge.svg\" alt=\"Open In Colab\"/></a>"
      ]
    },
    {
      "cell_type": "markdown",
      "source": [
        "<p style=\"text-align:center\">\n",
        "    <a href=\"https://skills.network\" target=\"_blank\">\n",
        "    <img src=\"https://cf-courses-data.s3.us.cloud-object-storage.appdomain.cloud/assets/logos/SN_web_lightmode.png\" width=\"200\" alt=\"Skills Network Logo\">\n",
        "    </a>\n",
        "</p>\n"
      ],
      "metadata": {
        "id": "T0TBRGL33bLc"
      }
    },
    {
      "cell_type": "markdown",
      "source": [
        "<center>\n",
        "\n",
        "# Practice lab\n",
        "\n",
        "</center>\n"
      ],
      "metadata": {
        "id": "slCWYB6g3bLf"
      }
    },
    {
      "cell_type": "markdown",
      "source": [
        "<center>\n",
        "    \n",
        "# **Scenario: Text Analysis**\n",
        "\n",
        "</center>\n"
      ],
      "metadata": {
        "id": "PEc6j13o3bLf"
      }
    },
    {
      "cell_type": "markdown",
      "source": [
        "Estimated time needed: **45** minutes\n"
      ],
      "metadata": {
        "id": "JSmghu0W3bLg"
      }
    },
    {
      "cell_type": "markdown",
      "source": [
        "# What is Text analysis?\n",
        "Text analysis, also known as text mining or text analytics, refers to the process of extracting meaningful information and insights from textual data.\n"
      ],
      "metadata": {
        "id": "BSDgrzn53bLg"
      }
    },
    {
      "cell_type": "markdown",
      "source": [
        "## Objectives\n",
        "\n",
        "After completing this lab, you will be able to use Python commands to perform text analysis. This includes converting the text to lowercase and then finding and counting the frequency of all unique words, as well as a specified word.\n"
      ],
      "metadata": {
        "id": "gTYJxBG13bLg"
      }
    },
    {
      "cell_type": "markdown",
      "source": [
        "## Setup\n"
      ],
      "metadata": {
        "id": "vU3XOPQn3bLg"
      }
    },
    {
      "cell_type": "markdown",
      "source": [
        "For this lab, we will be using the following data types:\n",
        "* List\n",
        "* Strings\n",
        "* Classes and objects\n"
      ],
      "metadata": {
        "id": "WrlDhdAO3bLg"
      }
    },
    {
      "cell_type": "markdown",
      "source": [
        "### Let's consider a real-life scenario where you are analyzing customer feedback for a product. You have a large dataset of customer reviews in the form of strings, and you want to extract useful information from them using the three identified tasks:\n",
        "\n",
        "**Task 1. String in lower case:**\n",
        "You want to Pre-process the customer feedback by converting all the text to lowercase. This step helps standardize the text. Lower casing the text allows you to focus on the content rather than the specific letter casing.\n",
        "\n",
        "**Task 2. Frequency of all words in a given string:**\n",
        "After converting the text to lowercase, you want to determine the frequency of each word in the customer feedback. This information will help you identify which words are used more frequently, indicating the key aspects or topics that customers are mentioning in their reviews. By analyzing the word frequencies, you can gain insights into the most common issues raised by customers.\n",
        "\n",
        "**Task 3. Frequency of a specific word:**\n",
        "In addition to analyzing the overall word frequencies, you want to specifically track the frequency of a particular word that is relevant to your analysis. For example, you might be interested in monitoring how often the word \"reliable\" appears in the customer reviews to gauge customer sentiment about the product's reliability. By focusing on the frequency of a specific word, you can gain a deeper understanding of customer opinions or preferences related to that particular aspect.\n",
        "\n",
        "By performing these tasks on the customer feedback dataset, you can gain valuable insights into customer sentiment\n"
      ],
      "metadata": {
        "id": "JSM2rfu93bLh"
      }
    },
    {
      "cell_type": "markdown",
      "source": [
        "----\n"
      ],
      "metadata": {
        "id": "lkliuxdU3bLh"
      }
    },
    {
      "cell_type": "markdown",
      "source": [
        "<center>\n",
        "    \n",
        "# Part-A\n"
      ],
      "metadata": {
        "id": "Il2DW7UF3bLh"
      }
    },
    {
      "cell_type": "markdown",
      "source": [
        "<center>\n",
        "    \n",
        "**Note:- In Part-A, you won't be getting any output as we are just storing the string and creating a class.**\n",
        "    </center>\n",
        "    \n"
      ],
      "metadata": {
        "id": "Sw9IUvJR3bLh"
      }
    },
    {
      "cell_type": "markdown",
      "source": [
        "## Step-1 Define a string.\n",
        "\"Lorem ipsum dolor! diam amet, consetetur Lorem magna. sed diam nonumy eirmod tempor. diam et labore? et diam magna. et diam amet.\" <br>\n",
        "**Hint:- Use a variable and store the above string.**\n"
      ],
      "metadata": {
        "id": "flt4iXdi3bLi"
      }
    },
    {
      "cell_type": "code",
      "source": [
        "#Press Shift+Enter to run the code\n",
        "givenstring=\"Lorem ipsum dolor! diam amet, consetetur Lorem magna. sed diam nonumy eirmod tempor. diam et labore? et diam magna. et diam amet.\""
      ],
      "metadata": {
        "trusted": true,
        "id": "VUyfJ4Nf3bLi"
      },
      "outputs": [],
      "execution_count": 41
    },
    {
      "cell_type": "markdown",
      "source": [
        "### For achieving the tasks mentioned in the scenario, We need to create a class with 3 different methods.\n"
      ],
      "metadata": {
        "id": "iQsnmMga3bLj"
      }
    },
    {
      "cell_type": "markdown",
      "source": [
        "## Step-2 Define the class and its attributes:\n"
      ],
      "metadata": {
        "id": "JLmxlZ6w3bLj"
      }
    },
    {
      "cell_type": "markdown",
      "source": [
        "1. Create a class named TextAnalyzer.\n",
        "2. Define the constructor `__init__` method that takes a text argument.\n"
      ],
      "metadata": {
        "id": "0qAL89-U3bLj"
      }
    },
    {
      "cell_type": "code",
      "source": [
        "# Please do not run this code cell as it is incomplete and will produce an error.\n",
        "\n",
        "# Let's create a class called TextAnalyzer to analyze text.\n",
        "class TextAnalyzer(object):\n",
        "    # The __init__ method initializes the class with a 'text' parameter.\n",
        "    # We will store the provided 'text' as an instance variable.\n",
        "    def __init__(self, text):\n",
        "      self.text=text"
      ],
      "metadata": {
        "id": "aWfkhRDz3bLj"
      },
      "outputs": [],
      "execution_count": 42
    },
    {
      "cell_type": "markdown",
      "source": [
        "----\n"
      ],
      "metadata": {
        "id": "O0EzF8DD3bLj"
      }
    },
    {
      "cell_type": "markdown",
      "source": [
        "## Step-3 Implement a code to Format the text in Lowercase:\n"
      ],
      "metadata": {
        "id": "Lixckc-J3bLk"
      }
    },
    {
      "cell_type": "markdown",
      "source": [
        "1. Inside the constructor,we will convert the text argument to lowercase using the `lower()` method.\n",
        "2. Then, will Remove punctuation marks (periods, exclamation marks, commas, and question marks) from the text using the `replace()` method.\n",
        "3. At last, we will Assign the formatted text to a new attribute called fmtText.\n",
        "\n",
        "**Here we will be Updating the above `TextAnalyzer` class with points mentioned above.**\n"
      ],
      "metadata": {
        "id": "DxBwdwst3bLk"
      }
    },
    {
      "cell_type": "code",
      "source": [
        "# Press Shift+Enter to run the code.\n",
        "class TextAnalzer(object):\n",
        "\n",
        "    def __init__ (self, text):\n",
        "        self.text=text\n",
        "        # remove punctuation\n",
        "        f_text = text.replace(\",\",\"\").replace(\"!\",\"\").replace(\"?\",\"\").replace(\".\",\"\")\n",
        "\n",
        "        # make text lowercase\n",
        "        slef.fmtText = f_text.lower()"
      ],
      "metadata": {
        "trusted": true,
        "id": "lBvAWIDS3bLk"
      },
      "outputs": [],
      "execution_count": 43
    },
    {
      "cell_type": "markdown",
      "source": [
        "----\n"
      ],
      "metadata": {
        "id": "Y5iLOIiB3bLl"
      }
    },
    {
      "cell_type": "markdown",
      "source": [
        "## Step-4 Implement a code to count the Frequency of all unique words:\n"
      ],
      "metadata": {
        "id": "i3upkgtf3bLl"
      }
    },
    {
      "cell_type": "markdown",
      "source": [
        "* In this step, we will Implement the `freqAll()` method with the below parameters:\n",
        "     1. Split the fmtText attribute into individual words using the `split()` method.\n",
        "     2. Create an empty dictionary to store the word frequency.\n",
        "     3. Iterate over the list of words and update the frequency dictionary accordingly.\n",
        "     4. Use `count` method for counting the occurence\n",
        "     5. Return the frequency dictionary.\n",
        "     \n",
        "**Update the above `TextAnalyzer` class with points mentioned above.**\n"
      ],
      "metadata": {
        "id": "sNiKgKv-3bLl"
      }
    },
    {
      "cell_type": "code",
      "source": [
        "#Press shift+Enter to run the code\n",
        "class TextAnalyzer(object):\n",
        "\n",
        "    def __init__ (self, text):\n",
        "        self.text=text\n",
        "        # remove punctuation\n",
        "        f_text = text.replace(\",\",\"\").replace(\"!\",\"\").replace(\"?\",\"\").replace(\".\",\"\")\n",
        "\n",
        "        # make text lowercase\n",
        "        self.fmtText = f_text.lower()\n",
        "\n",
        "    def freqAll(self):\n",
        "        # split text into words\n",
        "        words = self.fmtText.split()\n",
        "\n",
        "        # Create dictionary\n",
        "        words_count = {}\n",
        "        for word in words:\n",
        "            if word not in words_count:\n",
        "                words_count[word] = words.count(word)\n",
        "\n",
        "        return words_count\n",
        ""
      ],
      "metadata": {
        "trusted": true,
        "id": "To-1TAn53bLl"
      },
      "outputs": [],
      "execution_count": 44
    },
    {
      "cell_type": "markdown",
      "source": [
        "----\n"
      ],
      "metadata": {
        "id": "uWuH4c7f3bLm"
      }
    },
    {
      "cell_type": "markdown",
      "source": [
        "## Step-5 Implement a code to count the Frequency of a specific word:\n"
      ],
      "metadata": {
        "id": "hWbIok4e3bLm"
      }
    },
    {
      "cell_type": "markdown",
      "source": [
        "*In step-5, we have to Implement the `freqOf(word)` method that takes a word argument:\n",
        "   1. Create method and pass the word that need to be found\n",
        "   2. Get the `freqAll` method for look for count and check if that word is in the list.\n",
        "   3. Return the count. If the word is not found, the count returned is 0.\n",
        "   \n",
        "**Update the above `TextAnalyzer` class with points mentioned above.**\n"
      ],
      "metadata": {
        "id": "cuvXO7WX3bLm"
      }
    },
    {
      "cell_type": "code",
      "source": [
        "#Press Shift+Enter to run the code\n",
        "class TextAnalyzer(object):\n",
        "\n",
        "    def __init__ (self, text):\n",
        "        self.text=text\n",
        "        # remove punctuation\n",
        "        f_text = text.replace(\",\",\"\").replace(\"!\",\"\").replace(\"?\",\"\").replace(\".\",\"\")\n",
        "\n",
        "        # make text lowercase\n",
        "        self.fmtText = f_text.lower()\n",
        "\n",
        "    def freqAll(self):\n",
        "        # split text into words\n",
        "        words = self.fmtText.split()\n",
        "\n",
        "        # Create dictionary\n",
        "        words_count = {}\n",
        "        for word in words:\n",
        "            if word not in words_count:\n",
        "                words_count[word] = words.count(word)\n",
        "\n",
        "        return words_count\n",
        "\n",
        "    def freqOf(self,word):\n",
        "        # get frequency map\n",
        "        words_count = self.freqAll()\n",
        "        if word not in words_count:\n",
        "            return 0\n",
        "        else:\n",
        "            return words_count[word]"
      ],
      "metadata": {
        "trusted": true,
        "id": "OFgxMajk3bLm"
      },
      "outputs": [],
      "execution_count": 45
    },
    {
      "cell_type": "markdown",
      "source": [
        "### Now, We have successfully created a class with 3 methods\n"
      ],
      "metadata": {
        "id": "tiD5ayuU3bLn"
      }
    },
    {
      "cell_type": "markdown",
      "source": [
        "<center>\n",
        "    \n",
        "# Part-B\n",
        "  \n"
      ],
      "metadata": {
        "id": "3xL-OWfF3bLn"
      }
    },
    {
      "cell_type": "markdown",
      "source": [
        "<center>\n",
        "    \n",
        "**In Part B, we will be calling the functions created in Part A, allowing the functions to execute and generate output.**\n",
        "    </center>\n"
      ],
      "metadata": {
        "id": "7MiZQkZk3bLo"
      }
    },
    {
      "cell_type": "markdown",
      "source": [
        "## Step-1 Create an instance of TextAnalyzer Class.\n",
        "* Instantiate the TextAnalyzer class by passing the given string as an argument.\n"
      ],
      "metadata": {
        "id": "-EdS5FiE3bLo"
      }
    },
    {
      "cell_type": "code",
      "source": [
        "# type your code here\n",
        "analyzed = TextAnalyzer(givenstring)"
      ],
      "metadata": {
        "trusted": true,
        "id": "eVHsH-Pg3bLo"
      },
      "outputs": [],
      "execution_count": 46
    },
    {
      "cell_type": "markdown",
      "source": [
        "## Step-2  Call the function that converts the data into lowercase\n"
      ],
      "metadata": {
        "id": "cdTfDdPT3bLp"
      }
    },
    {
      "cell_type": "code",
      "source": [
        "# Press Shift+Enter to run the code.\n",
        "print(f\"The text in lower case and without punctuation: {analyzed.fmtText}\")"
      ],
      "metadata": {
        "trusted": true,
        "colab": {
          "base_uri": "https://localhost:8080/"
        },
        "id": "Twgr5bWu3bLp",
        "outputId": "8357b89f-41c4-42bd-ef73-2ef0ae32ea0d"
      },
      "outputs": [
        {
          "output_type": "stream",
          "name": "stdout",
          "text": [
            "The text in lower case and without punctuation: lorem ipsum dolor diam amet consetetur lorem magna sed diam nonumy eirmod tempor diam et labore et diam magna et diam amet\n"
          ]
        }
      ],
      "execution_count": 47
    },
    {
      "cell_type": "markdown",
      "source": [
        "We have successfully converted string into lowercase.\n"
      ],
      "metadata": {
        "id": "125D1Ec23bLq"
      }
    },
    {
      "cell_type": "markdown",
      "source": [
        "## Step-3 Call the function that counts the frequency of all unique words from the data.\n"
      ],
      "metadata": {
        "id": "AIrjeXIZ3bLq"
      }
    },
    {
      "cell_type": "code",
      "source": [
        "# Press Shift+Enter to run the code.\n",
        "print(f\"word counts: {analyzed.freqAll()}\")"
      ],
      "metadata": {
        "trusted": true,
        "colab": {
          "base_uri": "https://localhost:8080/"
        },
        "id": "5888nxUg3bLr",
        "outputId": "73838f9a-3df0-4be9-a1e0-aea639ffa551"
      },
      "outputs": [
        {
          "output_type": "stream",
          "name": "stdout",
          "text": [
            "word counts: {'lorem': 2, 'ipsum': 1, 'dolor': 1, 'diam': 5, 'amet': 2, 'consetetur': 1, 'magna': 2, 'sed': 1, 'nonumy': 1, 'eirmod': 1, 'tempor': 1, 'et': 3, 'labore': 1}\n"
          ]
        }
      ],
      "execution_count": 48
    },
    {
      "cell_type": "markdown",
      "source": [
        "We have successfully calculated the frequency of all unique words in the string.\n"
      ],
      "metadata": {
        "id": "Z1oaYvBK3bLr"
      }
    },
    {
      "cell_type": "markdown",
      "source": [
        "## Step-4 Call the function that counts the frequency of specific word.\n",
        "Here, we will call the function that counts the frequency of the word \"lorem\"\n",
        "<br>\n",
        "\n",
        "Print the output.**\n"
      ],
      "metadata": {
        "id": "yNCpr2-c3bLr"
      }
    },
    {
      "cell_type": "code",
      "source": [
        "# type your code here\n",
        "print(f\"The frequency of the word 'lorem' is: {analyzed.freqOf('lorem')}\")"
      ],
      "metadata": {
        "trusted": true,
        "colab": {
          "base_uri": "https://localhost:8080/"
        },
        "id": "NxwwYO1X3bLs",
        "outputId": "9fe5e735-e502-4a8b-cc94-6fc19253f17b"
      },
      "outputs": [
        {
          "output_type": "stream",
          "name": "stdout",
          "text": [
            "The frequency of the word 'lorem' is: 2\n"
          ]
        }
      ],
      "execution_count": 49
    },
    {
      "cell_type": "markdown",
      "source": [
        "We have successfully calculated the frequency of all specified words.\n"
      ],
      "metadata": {
        "id": "_HD97P7F3bLs"
      }
    },
    {
      "cell_type": "markdown",
      "source": [
        "----\n"
      ],
      "metadata": {
        "id": "6DH6KZM03bLs"
      }
    },
    {
      "cell_type": "markdown",
      "source": [
        "## Authors\n"
      ],
      "metadata": {
        "id": "SSNr5uIG3bLt"
      }
    },
    {
      "cell_type": "markdown",
      "source": [
        "\n",
        "**Akansha yadav**\n"
      ],
      "metadata": {
        "id": "jeKBGWx43bLt"
      }
    },
    {
      "cell_type": "markdown",
      "source": [
        "## Change Log\n"
      ],
      "metadata": {
        "id": "3249Z2Zg3bLt"
      }
    },
    {
      "cell_type": "markdown",
      "source": [
        "|Date (YYYY-MM-DD)|Version|Changed By|Change Description|\n",
        "|-|-|-|-|\n",
        "|2023-11-05|0.4|Abhishek Gagneja| Updated lab instructions|\n",
        "|2023-05-17|0.3|Akansha yadav| Created lab under maintenance|\n",
        "|2020-07-17|0.1|Sam     |Create Lab Template|\n",
        "|2022-11-19|0.2|Shengkai|Update Lab Template|\n"
      ],
      "metadata": {
        "id": "AsT0L5gU3bLt"
      }
    },
    {
      "cell_type": "markdown",
      "source": [
        "Copyright © 2023 IBM Corporation. All rights reserved.\n"
      ],
      "metadata": {
        "id": "3WcS0UF83bLu"
      }
    }
  ]
}